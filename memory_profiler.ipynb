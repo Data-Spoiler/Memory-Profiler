{
 "cells": [
  {
   "cell_type": "markdown",
   "metadata": {},
   "source": [
    "## Memory Profiling"
   ]
  },
  {
   "cell_type": "markdown",
   "metadata": {},
   "source": [
    "Python developers should be aware about the memory consumption of the code they are writing.This will help in multiple ways.Be it deciding hardware or deciding need of optimization or finding memory leak etc.\n",
    "We'll discuss a very simple yet very useful python library memory_profiler."
   ]
  },
  {
   "cell_type": "code",
   "execution_count": 1,
   "metadata": {
    "colab": {
     "base_uri": "https://localhost:8080/",
     "height": 207
    },
    "colab_type": "code",
    "executionInfo": {
     "elapsed": 6858,
     "status": "ok",
     "timestamp": 1593509741899,
     "user": {
      "displayName": "Sarang Mete",
      "photoUrl": "",
      "userId": "09604536810284816125"
     },
     "user_tz": -330
    },
    "id": "0zDvQcR4kw-N",
    "outputId": "25d3e147-e955-4c1a-cb46-d4ef04a70ac4"
   },
   "outputs": [
    {
     "name": "stdout",
     "output_type": "stream",
     "text": [
      "Requirement already satisfied: memory_profiler in c:\\anaconda3\\lib\\site-packages (0.57.0)\n",
      "Requirement already satisfied: psutil in c:\\anaconda3\\lib\\site-packages (from memory_profiler) (5.6.7)\n"
     ]
    }
   ],
   "source": [
    "!pip install memory_profiler"
   ]
  },
  {
   "cell_type": "code",
   "execution_count": 2,
   "metadata": {
    "colab": {},
    "colab_type": "code",
    "executionInfo": {
     "elapsed": 4797,
     "status": "ok",
     "timestamp": 1593509742358,
     "user": {
      "displayName": "Sarang Mete",
      "photoUrl": "",
      "userId": "09604536810284816125"
     },
     "user_tz": -330
    },
    "id": "ldZj-usAk8C-"
   },
   "outputs": [],
   "source": [
    "%load_ext memory_profiler\n",
    "from memory_profiler import profile"
   ]
  },
  {
   "cell_type": "markdown",
   "metadata": {
    "colab": {},
    "colab_type": "code",
    "id": "5iyqfLfXyD4D"
   },
   "source": [
    "Memory Profiler:\n",
    "This is a python module for monitoring memory consumption in Python programs.<br><br>\n",
    "\n",
    "We can imagine using memory profiler in following ways:<br>\n",
    "1.Find memory consumption of a line<br>\n",
    "2.Find memory consumption of a function<br> \n",
    "3.Find memory consumption of a function line by line<br>\n",
    "4.Find memory consumption of complete python script<br>"
   ]
  },
  {
   "cell_type": "markdown",
   "metadata": {
    "colab": {},
    "colab_type": "code",
    "id": "MOr5b9pHlLnt"
   },
   "source": [
    "1.Find memory consumption of a line"
   ]
  },
  {
   "cell_type": "code",
   "execution_count": 3,
   "metadata": {
    "colab": {
     "base_uri": "https://localhost:8080/",
     "height": 34
    },
    "colab_type": "code",
    "executionInfo": {
     "elapsed": 1022,
     "status": "ok",
     "timestamp": 1593509778428,
     "user": {
      "displayName": "Sarang Mete",
      "photoUrl": "",
      "userId": "09604536810284816125"
     },
     "user_tz": -330
    },
    "id": "ir3H_RK9lULM",
    "outputId": "cb1da9f8-b576-429d-984c-d4a7b9804516"
   },
   "outputs": [
    {
     "name": "stdout",
     "output_type": "stream",
     "text": [
      "peak memory: 54.01 MiB, increment: 0.27 MiB\n"
     ]
    }
   ],
   "source": [
    "#Just add magic function %memit at the start of line\n",
    "%memit x = 10+5"
   ]
  },
  {
   "cell_type": "markdown",
   "metadata": {},
   "source": [
    "Here,peak memory is memory consumed by the process running this code.Increment is nothing but memory required/consumed due to addition of this line of code.This same logic applies to below options as well."
   ]
  },
  {
   "cell_type": "markdown",
   "metadata": {
    "colab": {},
    "colab_type": "code",
    "id": "joozIs-Q09UY"
   },
   "source": [
    "2.Find memory consumption of a function"
   ]
  },
  {
   "cell_type": "code",
   "execution_count": 15,
   "metadata": {
    "colab": {},
    "colab_type": "code",
    "executionInfo": {
     "elapsed": 955,
     "status": "ok",
     "timestamp": 1593509844805,
     "user": {
      "displayName": "Sarang Mete",
      "photoUrl": "",
      "userId": "09604536810284816125"
     },
     "user_tz": -330
    },
    "id": "ekELIQiJlnFm"
   },
   "outputs": [],
   "source": [
    "def addition():\n",
    "    a = [1] * (10 ** 1)\n",
    "    b = [2] * (3 * 10 ** 2)\n",
    "    sum = a+b\n",
    "    return sum"
   ]
  },
  {
   "cell_type": "code",
   "execution_count": 16,
   "metadata": {
    "colab": {
     "base_uri": "https://localhost:8080/",
     "height": 34
    },
    "colab_type": "code",
    "executionInfo": {
     "elapsed": 1031,
     "status": "ok",
     "timestamp": 1593509862844,
     "user": {
      "displayName": "Sarang Mete",
      "photoUrl": "",
      "userId": "09604536810284816125"
     },
     "user_tz": -330
    },
    "id": "jUjbrqH_lp85",
    "outputId": "ee4a4d8d-8cd5-4f25-ef36-7ca5c2d54d62"
   },
   "outputs": [
    {
     "name": "stdout",
     "output_type": "stream",
     "text": [
      "peak memory: 36.36 MiB, increment: 0.01 MiB\n"
     ]
    }
   ],
   "source": [
    "%memit addition()"
   ]
  },
  {
   "cell_type": "markdown",
   "metadata": {
    "colab": {},
    "colab_type": "code",
    "id": "ok871urel8ax"
   },
   "source": [
    "3.Find memory consumption of a function line by line"
   ]
  },
  {
   "cell_type": "markdown",
   "metadata": {
    "colab": {},
    "colab_type": "code",
    "id": "955mpBbimOfd"
   },
   "source": [
    "For a line-by-line description of memory use, we can use the @profile decorator.\n",
    " Unfortunately, this works only for functions defined in separate modules rather than the notebook itself, \n",
    " so we'll start by using the %%file magic to create a simple module called demo.py, which contains our function"
   ]
  },
  {
   "cell_type": "code",
   "execution_count": 17,
   "metadata": {
    "colab": {
     "base_uri": "https://localhost:8080/",
     "height": 34
    },
    "colab_type": "code",
    "executionInfo": {
     "elapsed": 1018,
     "status": "ok",
     "timestamp": 1593510175107,
     "user": {
      "displayName": "Sarang Mete",
      "photoUrl": "",
      "userId": "09604536810284816125"
     },
     "user_tz": -330
    },
    "id": "jumMtWKT1B-H",
    "outputId": "e3d84c51-eea9-4d44-8bb4-f092423c110e"
   },
   "outputs": [
    {
     "name": "stdout",
     "output_type": "stream",
     "text": [
      "Overwriting demo.py\n"
     ]
    }
   ],
   "source": [
    "%%file demo.py\n",
    "from memory_profiler import profile\n",
    "@profile\n",
    "def addition():\n",
    "    a = [1] * (10 ** 1)\n",
    "    b = [2] * (3 * 10 ** 2)\n",
    "    sum = a+b\n",
    "    return sum"
   ]
  },
  {
   "cell_type": "code",
   "execution_count": 18,
   "metadata": {
    "colab": {
     "base_uri": "https://localhost:8080/",
     "height": 238
    },
    "colab_type": "code",
    "executionInfo": {
     "elapsed": 992,
     "status": "ok",
     "timestamp": 1593510178110,
     "user": {
      "displayName": "Sarang Mete",
      "photoUrl": "",
      "userId": "09604536810284816125"
     },
     "user_tz": -330
    },
    "id": "iFYgTat_dwhc",
    "outputId": "f47cdca9-0d51-4730-bf1e-d0cb0d82c27f"
   },
   "outputs": [
    {
     "name": "stdout",
     "output_type": "stream",
     "text": [
      "Filename: D:\\OneDrive - Persistent Systems Limited\\my_projects\\Memory_Profiler\\demo.py\n",
      "\n",
      "Line #    Mem usage    Increment   Line Contents\n",
      "================================================\n",
      "     2     36.4 MiB     36.4 MiB   @profile\n",
      "     3                             def addition():\n",
      "     4     36.4 MiB      0.0 MiB       a = [1] * (10 ** 1)\n",
      "     5   3851.1 MiB   3814.7 MiB       b = [2] * (3 * 10 ** 2)\n",
      "     6   7665.9 MiB   3814.8 MiB       sum = a+b\n",
      "     7   7665.9 MiB      0.0 MiB       return sum\n",
      "\n",
      "\n",
      "peak memory: 7665.88 MiB, increment: 7629.52 MiB\n"
     ]
    }
   ],
   "source": [
    "from demo import addition\n",
    "%memit addition()"
   ]
  },
  {
   "cell_type": "markdown",
   "metadata": {
    "colab": {},
    "colab_type": "code",
    "id": "NAcodUlTeGza"
   },
   "source": [
    "4.Find memory consumption of complete python script"
   ]
  },
  {
   "cell_type": "markdown",
   "metadata": {},
   "source": [
    "This option can't be tried in notebook.We have to create python script and run it via command line."
   ]
  },
  {
   "cell_type": "code",
   "execution_count": 19,
   "metadata": {},
   "outputs": [
    {
     "name": "stdout",
     "output_type": "stream",
     "text": [
      "Writing script.py\n"
     ]
    }
   ],
   "source": [
    "%%file script.py\n",
    "import time\n",
    "\n",
    "@profile\n",
    "def function1():\n",
    "    n = 100000\n",
    "    a = [1] * n\n",
    "    time.sleep(1)\n",
    "    return a\n",
    "\n",
    "@profile\n",
    "def function2():\n",
    "    n = 200000\n",
    "    b = [1] * n\n",
    "    time.sleep(1)\n",
    "    return b\n",
    "\n",
    "if __name__ == \"__main__\":\n",
    "    function1()\n",
    "    function2()"
   ]
  },
  {
   "cell_type": "code",
   "execution_count": 20,
   "metadata": {},
   "outputs": [
    {
     "name": "stdout",
     "output_type": "stream",
     "text": [
      "mprof: Sampling memory every 0.1s\n",
      "running as a Python program...\n"
     ]
    }
   ],
   "source": [
    "!mprof run script.py"
   ]
  },
  {
   "cell_type": "code",
   "execution_count": 10,
   "metadata": {},
   "outputs": [
    {
     "name": "stdout",
     "output_type": "stream",
     "text": [
      "Using last profile data.\n",
      "Figure(1260x540)\n"
     ]
    }
   ],
   "source": [
    "#This plot will only be seen if we run below command on command line\n",
    "!mprof plot"
   ]
  },
  {
   "cell_type": "markdown",
   "metadata": {},
   "source": [
    "Please note that it is not necessary to place @profile decorator above function,<br>\n",
    "if we don't keep it ,we won't see functional level memory consumption but we'll see whole script's consumption"
   ]
  },
  {
   "cell_type": "code",
   "execution_count": 21,
   "metadata": {},
   "outputs": [
    {
     "name": "stdout",
     "output_type": "stream",
     "text": [
      "Writing script_n.py\n"
     ]
    }
   ],
   "source": [
    "%%file script_n.py\n",
    "import time\n",
    "\n",
    "def function1():\n",
    "    n = 100000\n",
    "    a = [1] * n\n",
    "    time.sleep(1)\n",
    "    return a\n",
    "\n",
    "\n",
    "def function2():\n",
    "    n = 200000\n",
    "    b = [1] * n\n",
    "    time.sleep(1)\n",
    "    return b\n",
    "\n",
    "if __name__ == \"__main__\":\n",
    "    function1()\n",
    "    function2()"
   ]
  },
  {
   "cell_type": "code",
   "execution_count": 22,
   "metadata": {},
   "outputs": [
    {
     "name": "stdout",
     "output_type": "stream",
     "text": [
      "mprof: Sampling memory every 0.1s\n",
      "running as a Python program...\n"
     ]
    }
   ],
   "source": [
    "!mprof run script_n.py"
   ]
  },
  {
   "cell_type": "code",
   "execution_count": null,
   "metadata": {},
   "outputs": [],
   "source": []
  }
 ],
 "metadata": {
  "colab": {
   "authorship_tag": "ABX9TyOuPhpzUJrmRLp6orbtVQv0",
   "collapsed_sections": [],
   "name": "memory_profiler.ipynb",
   "provenance": []
  },
  "kernelspec": {
   "display_name": "Python 3",
   "language": "python",
   "name": "python3"
  },
  "language_info": {
   "codemirror_mode": {
    "name": "ipython",
    "version": 3
   },
   "file_extension": ".py",
   "mimetype": "text/x-python",
   "name": "python",
   "nbconvert_exporter": "python",
   "pygments_lexer": "ipython3",
   "version": "3.7.6"
  }
 },
 "nbformat": 4,
 "nbformat_minor": 1
}
